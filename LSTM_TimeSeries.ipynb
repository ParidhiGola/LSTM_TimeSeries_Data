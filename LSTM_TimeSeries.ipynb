{
 "cells": [
  {
   "cell_type": "markdown",
   "metadata": {
    "colab_type": "text",
    "id": "M0jyiWgfaBbK"
   },
   "source": [
    "Building a basic Prediction LSTM model on the TIMESERIES Data"
   ]
  },
  {
   "cell_type": "code",
   "execution_count": 1,
   "metadata": {},
   "outputs": [],
   "source": [
    "####Change directory\n",
    "import os\n",
    "os.chdir('G:\\9_Residency_APR\\Lab and Project\\LAb\\Internal')"
   ]
  },
  {
   "cell_type": "code",
   "execution_count": 2,
   "metadata": {
    "colab": {},
    "colab_type": "code",
    "id": "nh9-CLCk8Nko"
   },
   "outputs": [],
   "source": [
    "import pandas as pd\n",
    "df = pd.read_csv('daily-minimum-temperatures-in-me.csv')"
   ]
  },
  {
   "cell_type": "code",
   "execution_count": 3,
   "metadata": {
    "colab": {},
    "colab_type": "code",
    "id": "IG71WyV68Nn_"
   },
   "outputs": [
    {
     "data": {
      "text/html": [
       "<div>\n",
       "<style scoped>\n",
       "    .dataframe tbody tr th:only-of-type {\n",
       "        vertical-align: middle;\n",
       "    }\n",
       "\n",
       "    .dataframe tbody tr th {\n",
       "        vertical-align: top;\n",
       "    }\n",
       "\n",
       "    .dataframe thead th {\n",
       "        text-align: right;\n",
       "    }\n",
       "</style>\n",
       "<table border=\"1\" class=\"dataframe\">\n",
       "  <thead>\n",
       "    <tr style=\"text-align: right;\">\n",
       "      <th></th>\n",
       "      <th>Date</th>\n",
       "      <th>Temperature</th>\n",
       "    </tr>\n",
       "  </thead>\n",
       "  <tbody>\n",
       "    <tr>\n",
       "      <th>0</th>\n",
       "      <td>1981-01-01</td>\n",
       "      <td>20.7</td>\n",
       "    </tr>\n",
       "    <tr>\n",
       "      <th>1</th>\n",
       "      <td>1981-01-02</td>\n",
       "      <td>17.9</td>\n",
       "    </tr>\n",
       "    <tr>\n",
       "      <th>2</th>\n",
       "      <td>1981-01-03</td>\n",
       "      <td>18.8</td>\n",
       "    </tr>\n",
       "    <tr>\n",
       "      <th>3</th>\n",
       "      <td>1981-01-04</td>\n",
       "      <td>14.6</td>\n",
       "    </tr>\n",
       "    <tr>\n",
       "      <th>4</th>\n",
       "      <td>1981-01-05</td>\n",
       "      <td>15.8</td>\n",
       "    </tr>\n",
       "  </tbody>\n",
       "</table>\n",
       "</div>"
      ],
      "text/plain": [
       "         Date  Temperature\n",
       "0  1981-01-01         20.7\n",
       "1  1981-01-02         17.9\n",
       "2  1981-01-03         18.8\n",
       "3  1981-01-04         14.6\n",
       "4  1981-01-05         15.8"
      ]
     },
     "execution_count": 3,
     "metadata": {},
     "output_type": "execute_result"
    }
   ],
   "source": [
    "df.head()"
   ]
  },
  {
   "cell_type": "code",
   "execution_count": 4,
   "metadata": {
    "colab": {},
    "colab_type": "code",
    "id": "1b54O0Fj8NrH"
   },
   "outputs": [
    {
     "name": "stdout",
     "output_type": "stream",
     "text": [
      "<class 'pandas.core.frame.DataFrame'>\n",
      "RangeIndex: 3650 entries, 0 to 3649\n",
      "Data columns (total 2 columns):\n",
      "Date           3650 non-null object\n",
      "Temperature    3650 non-null float64\n",
      "dtypes: float64(1), object(1)\n",
      "memory usage: 57.1+ KB\n"
     ]
    }
   ],
   "source": [
    "df.info()"
   ]
  },
  {
   "cell_type": "code",
   "execution_count": 5,
   "metadata": {
    "colab": {},
    "colab_type": "code",
    "id": "Wb1xVTi98NvM"
   },
   "outputs": [],
   "source": [
    "df.set_index('Date',inplace = True)"
   ]
  },
  {
   "cell_type": "code",
   "execution_count": 6,
   "metadata": {
    "colab": {},
    "colab_type": "code",
    "id": "1CbdP84oaaB3"
   },
   "outputs": [
    {
     "data": {
      "text/html": [
       "<div>\n",
       "<style scoped>\n",
       "    .dataframe tbody tr th:only-of-type {\n",
       "        vertical-align: middle;\n",
       "    }\n",
       "\n",
       "    .dataframe tbody tr th {\n",
       "        vertical-align: top;\n",
       "    }\n",
       "\n",
       "    .dataframe thead th {\n",
       "        text-align: right;\n",
       "    }\n",
       "</style>\n",
       "<table border=\"1\" class=\"dataframe\">\n",
       "  <thead>\n",
       "    <tr style=\"text-align: right;\">\n",
       "      <th></th>\n",
       "      <th>count</th>\n",
       "      <th>mean</th>\n",
       "      <th>std</th>\n",
       "      <th>min</th>\n",
       "      <th>25%</th>\n",
       "      <th>50%</th>\n",
       "      <th>75%</th>\n",
       "      <th>max</th>\n",
       "    </tr>\n",
       "  </thead>\n",
       "  <tbody>\n",
       "    <tr>\n",
       "      <th>Temperature</th>\n",
       "      <td>3650.0</td>\n",
       "      <td>11.177753</td>\n",
       "      <td>4.071837</td>\n",
       "      <td>0.0</td>\n",
       "      <td>8.3</td>\n",
       "      <td>11.0</td>\n",
       "      <td>14.0</td>\n",
       "      <td>26.3</td>\n",
       "    </tr>\n",
       "  </tbody>\n",
       "</table>\n",
       "</div>"
      ],
      "text/plain": [
       "              count       mean       std  min  25%   50%   75%   max\n",
       "Temperature  3650.0  11.177753  4.071837  0.0  8.3  11.0  14.0  26.3"
      ]
     },
     "execution_count": 6,
     "metadata": {},
     "output_type": "execute_result"
    }
   ],
   "source": [
    "df.describe().T"
   ]
  },
  {
   "cell_type": "code",
   "execution_count": 7,
   "metadata": {
    "colab": {},
    "colab_type": "code",
    "id": "xfVW6ayKaaFG"
   },
   "outputs": [
    {
     "data": {
      "text/plain": [
       "<matplotlib.axes._subplots.AxesSubplot at 0x979efd0>"
      ]
     },
     "execution_count": 7,
     "metadata": {},
     "output_type": "execute_result"
    },
    {
     "data": {
      "image/png": "[encoded data removed]",
      "text/plain": [
       "<Figure size 1368x360 with 1 Axes>"
      ]
     },
     "metadata": {
      "needs_background": "light"
     },
     "output_type": "display_data"
    }
   ],
   "source": [
    "import matplotlib.pyplot as plt\n",
    "%matplotlib inline\n",
    "df.plot(figsize =(19,5))"
   ]
  },
  {
   "cell_type": "code",
   "execution_count": 8,
   "metadata": {
    "colab": {},
    "colab_type": "code",
    "id": "5xFM7UOQaaIX"
   },
   "outputs": [
    {
     "data": {
      "text/plain": [
       "array([[<matplotlib.axes._subplots.AxesSubplot object at 0x0000000009BBF0F0>]],\n",
       "      dtype=object)"
      ]
     },
     "execution_count": 8,
     "metadata": {},
     "output_type": "execute_result"
    },
    {
     "data": {
      "image/png": "[encoded data removed]",
      "text/plain": [
       "<Figure size 432x288 with 1 Axes>"
      ]
     },
     "metadata": {
      "needs_background": "light"
     },
     "output_type": "display_data"
    }
   ],
   "source": [
    "df.hist(bins=100)"
   ]
  },
  {
   "cell_type": "code",
   "execution_count": 9,
   "metadata": {
    "colab": {},
    "colab_type": "code",
    "id": "CjSYgHPXaaOu"
   },
   "outputs": [
    {
     "data": {
      "text/plain": [
       "0.0"
      ]
     },
     "execution_count": 9,
     "metadata": {},
     "output_type": "execute_result"
    }
   ],
   "source": [
    "df['Temperature'].min()"
   ]
  },
  {
   "cell_type": "code",
   "execution_count": 10,
   "metadata": {
    "colab": {},
    "colab_type": "code",
    "id": "j43oXYn1aaVE"
   },
   "outputs": [
    {
     "data": {
      "text/plain": [
       "26.3"
      ]
     },
     "execution_count": 10,
     "metadata": {},
     "output_type": "execute_result"
    }
   ],
   "source": [
    "df['Temperature'].max()"
   ]
  },
  {
   "cell_type": "code",
   "execution_count": 11,
   "metadata": {
    "colab": {},
    "colab_type": "code",
    "id": "HolvL21EaaZm"
   },
   "outputs": [],
   "source": [
    "train = df.iloc[:int(len(df)*0.75)]\n",
    "test = df.iloc[int(len(df)*0.75):]"
   ]
  },
  {
   "cell_type": "code",
   "execution_count": 12,
   "metadata": {
    "colab": {},
    "colab_type": "code",
    "id": "Z6ysnyEiaaRh"
   },
   "outputs": [],
   "source": [
    "from sklearn.preprocessing import MinMaxScaler\n",
    "scaler = MinMaxScaler(feature_range=(0, 1))\n",
    "train = scaler.fit_transform(train)\n",
    "test = scaler.transform(test)"
   ]
  },
  {
   "cell_type": "code",
   "execution_count": 13,
   "metadata": {
    "colab": {},
    "colab_type": "code",
    "id": "HjDKy92AaaMA"
   },
   "outputs": [],
   "source": [
    "import numpy as np\n",
    "def create_seq_data(data, lookback=1):\n",
    "  X, y = list(), list()\n",
    "  \n",
    "  for day in range((len(data)-lookback)):\n",
    "    X.append(data[day: day+lookback, 0])\n",
    "    y.append(data[day+lookback, 0])\n",
    "  return np.array(X), np.array(y)"
   ]
  },
  {
   "cell_type": "code",
   "execution_count": 14,
   "metadata": {
    "colab": {},
    "colab_type": "code",
    "id": "PvMNsvkMasgM"
   },
   "outputs": [],
   "source": [
    "X_train,y_train = create_seq_data(train)"
   ]
  },
  {
   "cell_type": "code",
   "execution_count": 15,
   "metadata": {
    "colab": {},
    "colab_type": "code",
    "id": "z4vP3Iajasjq"
   },
   "outputs": [],
   "source": [
    "X_test,y_test = create_seq_data(test)"
   ]
  },
  {
   "cell_type": "code",
   "execution_count": 16,
   "metadata": {
    "colab": {},
    "colab_type": "code",
    "id": "1g8fJpzYasqT"
   },
   "outputs": [
    {
     "name": "stdout",
     "output_type": "stream",
     "text": [
      "X_train length: 2736\n",
      "X_test length: 912\n"
     ]
    }
   ],
   "source": [
    "#The input of the LSTM is always is a 3D array. (batch_size, time_steps,seq_len)\n",
    "print('X_train length:',len(X_train))\n",
    "print('X_test length:',len(X_test))\n",
    "X_train = np.reshape(X_train, (X_train.shape[0], X_train.shape[1],1))\n",
    "X_test = np.reshape(X_test, (X_test.shape[0], X_test.shape[1],1))"
   ]
  },
  {
   "cell_type": "code",
   "execution_count": 17,
   "metadata": {
    "colab": {},
    "colab_type": "code",
    "id": "36TDS5M5ast1"
   },
   "outputs": [],
   "source": [
    "#Initialize model\n",
    "import tensorflow as tf\n",
    "tf.keras.backend.clear_session()"
   ]
  },
  {
   "cell_type": "code",
   "execution_count": 18,
   "metadata": {
    "colab": {},
    "colab_type": "code",
    "id": "1bruFE1xasnp"
   },
   "outputs": [
    {
     "name": "stdout",
     "output_type": "stream",
     "text": [
      "WARNING:tensorflow:From C:\\Users\\Paridhi\\Anaconda3\\lib\\site-packages\\tensorflow\\python\\ops\\init_ops.py:1251: calling VarianceScaling.__init__ (from tensorflow.python.ops.init_ops) with dtype is deprecated and will be removed in a future version.\n",
      "Instructions for updating:\n",
      "Call initializer instance with the dtype argument instead of passing it to the constructor\n"
     ]
    },
    {
     "data": {
      "text/plain": [
       "[<tensorflow.python.keras.layers.recurrent.LSTM at 0x1153de48>,\n",
       " <tensorflow.python.keras.layers.core.Dense at 0x11568080>]"
      ]
     },
     "execution_count": 18,
     "metadata": {},
     "output_type": "execute_result"
    }
   ],
   "source": [
    "model = tf.keras.Sequential()\n",
    "\n",
    "batch_size = 1\n",
    "look_back =1\n",
    "#model.add(tf.keras.layers.Dropout(0.2))\n",
    "model.add(tf.keras.layers.LSTM(10,batch_input_shape = (batch_size,look_back,1),stateful = True))\n",
    "#model.add(tf.keras.layers.Dropout(0.2))\n",
    "\n",
    "model.add(tf.keras.layers.Dense(1,activation='sigmoid'))\n",
    "\n",
    "#model.output\n",
    "model.layers"
   ]
  },
  {
   "cell_type": "code",
   "execution_count": 19,
   "metadata": {
    "colab": {},
    "colab_type": "code",
    "id": "eaX1uvQ2a84G"
   },
   "outputs": [],
   "source": [
    "model.compile(loss = 'mean_squared_error', optimizer='adam')"
   ]
  },
  {
   "cell_type": "code",
   "execution_count": 20,
   "metadata": {
    "colab": {},
    "colab_type": "code",
    "id": "M8zwvNeAa87p"
   },
   "outputs": [
    {
     "name": "stdout",
     "output_type": "stream",
     "text": [
      "Model: \"sequential\"\n",
      "_________________________________________________________________\n",
      "Layer (type)                 Output Shape              Param #   \n",
      "=================================================================\n",
      "lstm (LSTM)                  (1, 10)                   480       \n",
      "_________________________________________________________________\n",
      "dense (Dense)                (1, 1)                    11        \n",
      "=================================================================\n",
      "Total params: 491\n",
      "Trainable params: 491\n",
      "Non-trainable params: 0\n",
      "_________________________________________________________________\n",
      "None\n"
     ]
    }
   ],
   "source": [
    "print(model.summary())"
   ]
  },
  {
   "cell_type": "code",
   "execution_count": 22,
   "metadata": {
    "colab": {},
    "colab_type": "code",
    "id": "E_zxA6A3a8_q"
   },
   "outputs": [
    {
     "name": "stdout",
     "output_type": "stream",
     "text": [
      "Epoch 1/50\n",
      "2736/2736 - 4s - loss: 0.0098\n",
      "Epoch 2/50\n",
      "2736/2736 - 4s - loss: 0.0099\n",
      "Epoch 3/50\n",
      "2736/2736 - 4s - loss: 0.0099\n",
      "Epoch 4/50\n",
      "2736/2736 - 4s - loss: 0.0099\n",
      "Epoch 5/50\n",
      "2736/2736 - 4s - loss: 0.0099\n",
      "Epoch 6/50\n",
      "2736/2736 - 4s - loss: 0.0099\n",
      "Epoch 7/50\n",
      "2736/2736 - 4s - loss: 0.0099\n",
      "Epoch 8/50\n",
      "2736/2736 - 4s - loss: 0.0099\n",
      "Epoch 9/50\n",
      "2736/2736 - 5s - loss: 0.0099\n",
      "Epoch 10/50\n",
      "2736/2736 - 5s - loss: 0.0099\n",
      "Epoch 11/50\n",
      "2736/2736 - 4s - loss: 0.0099\n",
      "Epoch 12/50\n",
      "2736/2736 - 4s - loss: 0.0098\n",
      "Epoch 13/50\n",
      "2736/2736 - 4s - loss: 0.0099\n",
      "Epoch 14/50\n",
      "2736/2736 - 5s - loss: 0.0098\n",
      "Epoch 15/50\n",
      "2736/2736 - 4s - loss: 0.0098\n",
      "Epoch 16/50\n",
      "2736/2736 - 4s - loss: 0.0098\n",
      "Epoch 17/50\n",
      "2736/2736 - 4s - loss: 0.0099\n",
      "Epoch 18/50\n",
      "2736/2736 - 4s - loss: 0.0098\n",
      "Epoch 19/50\n",
      "2736/2736 - 4s - loss: 0.0099\n",
      "Epoch 20/50\n",
      "2736/2736 - 4s - loss: 0.0098\n",
      "Epoch 21/50\n",
      "2736/2736 - 4s - loss: 0.0099\n",
      "Epoch 22/50\n",
      "2736/2736 - 4s - loss: 0.0098\n",
      "Epoch 23/50\n",
      "2736/2736 - 4s - loss: 0.0098\n",
      "Epoch 24/50\n",
      "2736/2736 - 4s - loss: 0.0099\n",
      "Epoch 25/50\n",
      "2736/2736 - 5s - loss: 0.0098\n",
      "Epoch 26/50\n",
      "2736/2736 - 4s - loss: 0.0098\n",
      "Epoch 27/50\n",
      "2736/2736 - 4s - loss: 0.0098\n",
      "Epoch 28/50\n",
      "2736/2736 - 4s - loss: 0.0098\n",
      "Epoch 29/50\n",
      "2736/2736 - 4s - loss: 0.0098\n",
      "Epoch 30/50\n",
      "2736/2736 - 4s - loss: 0.0098\n",
      "Epoch 31/50\n",
      "2736/2736 - 4s - loss: 0.0099\n",
      "Epoch 32/50\n",
      "2736/2736 - 4s - loss: 0.0098\n",
      "Epoch 33/50\n",
      "2736/2736 - 4s - loss: 0.0098\n",
      "Epoch 34/50\n",
      "2736/2736 - 4s - loss: 0.0098\n",
      "Epoch 35/50\n",
      "2736/2736 - 4s - loss: 0.0098\n",
      "Epoch 36/50\n",
      "2736/2736 - 4s - loss: 0.0098\n",
      "Epoch 37/50\n",
      "2736/2736 - 4s - loss: 0.0098\n",
      "Epoch 38/50\n",
      "2736/2736 - 4s - loss: 0.0098\n",
      "Epoch 39/50\n",
      "2736/2736 - 4s - loss: 0.0098\n",
      "Epoch 40/50\n",
      "2736/2736 - 4s - loss: 0.0098\n",
      "Epoch 41/50\n",
      "2736/2736 - 4s - loss: 0.0098\n",
      "Epoch 42/50\n",
      "2736/2736 - 4s - loss: 0.0099\n",
      "Epoch 43/50\n",
      "2736/2736 - 4s - loss: 0.0099\n",
      "Epoch 44/50\n",
      "2736/2736 - 4s - loss: 0.0099\n",
      "Epoch 45/50\n",
      "2736/2736 - 4s - loss: 0.0098\n",
      "Epoch 46/50\n",
      "2736/2736 - 4s - loss: 0.0099\n",
      "Epoch 47/50\n",
      "2736/2736 - 4s - loss: 0.0098\n",
      "Epoch 48/50\n",
      "2736/2736 - 4s - loss: 0.0098\n",
      "Epoch 49/50\n",
      "2736/2736 - 4s - loss: 0.0098\n",
      "Epoch 50/50\n",
      "2736/2736 - 4s - loss: 0.0098\n"
     ]
    },
    {
     "data": {
      "text/plain": [
       "<tensorflow.python.keras.callbacks.History at 0xc836f28>"
      ]
     },
     "execution_count": 22,
     "metadata": {},
     "output_type": "execute_result"
    }
   ],
   "source": [
    "batch_size = 1\n",
    "epochs = 50\n",
    "model.fit(X_train, y_train, epochs = epochs, batch_size=batch_size, verbose = 2)"
   ]
  },
  {
   "cell_type": "code",
   "execution_count": 23,
   "metadata": {
    "colab": {},
    "colab_type": "code",
    "id": "axi72Bw7a9Dk"
   },
   "outputs": [
    {
     "name": "stdout",
     "output_type": "stream",
     "text": [
      "2736/2736 - 1s\n"
     ]
    }
   ],
   "source": [
    "train_pred = model.predict(X_train,batch_size = batch_size,verbose = 2)"
   ]
  },
  {
   "cell_type": "code",
   "execution_count": 24,
   "metadata": {
    "colab": {},
    "colab_type": "code",
    "id": "AfoC0QC9bLB1"
   },
   "outputs": [],
   "source": [
    "model.reset_states()"
   ]
  },
  {
   "cell_type": "code",
   "execution_count": 25,
   "metadata": {
    "colab": {},
    "colab_type": "code",
    "id": "rLaESyO9bLFt"
   },
   "outputs": [
    {
     "name": "stdout",
     "output_type": "stream",
     "text": [
      "912/912 - 0s\n"
     ]
    }
   ],
   "source": [
    "test_pred = model.predict(X_test,batch_size = batch_size,verbose = 2)"
   ]
  },
  {
   "cell_type": "code",
   "execution_count": 26,
   "metadata": {
    "colab": {},
    "colab_type": "code",
    "id": "bk3ULecxbLJ-"
   },
   "outputs": [],
   "source": [
    "train_true_pred_labels = scaler.inverse_transform(train_pred)\n",
    "train_true_labels = scaler.inverse_transform([y_train])\n",
    "train_true_labels = train_true_labels.T"
   ]
  },
  {
   "cell_type": "code",
   "execution_count": 27,
   "metadata": {
    "colab": {},
    "colab_type": "code",
    "id": "KNQH84sYbLO7"
   },
   "outputs": [],
   "source": [
    "test_true_pred_labels = scaler.inverse_transform(test_pred)\n",
    "test_true_labels = scaler.inverse_transform([y_test])\n",
    "test_true_labels = test_true_labels.T"
   ]
  },
  {
   "cell_type": "code",
   "execution_count": 28,
   "metadata": {
    "colab": {},
    "colab_type": "code",
    "id": "UrgWn1SEbW8f"
   },
   "outputs": [
    {
     "name": "stdout",
     "output_type": "stream",
     "text": [
      "train RMSE =  2.6012690719692517\n"
     ]
    }
   ],
   "source": [
    "from sklearn.metrics import mean_squared_error\n",
    "RMSE_train = np.sqrt(mean_squared_error(train_true_labels, train_true_pred_labels))\n",
    "print(\"train RMSE = \", RMSE_train)"
   ]
  },
  {
   "cell_type": "code",
   "execution_count": 29,
   "metadata": {
    "colab": {},
    "colab_type": "code",
    "id": "7EfyqejobXAM"
   },
   "outputs": [
    {
     "name": "stdout",
     "output_type": "stream",
     "text": [
      "test rmse : 2.524798419520022\n"
     ]
    }
   ],
   "source": [
    "from sklearn.metrics import mean_squared_error\n",
    "RMSE_test = np.sqrt(mean_squared_error(test_true_labels,test_true_pred_labels))\n",
    "print('test rmse :',RMSE_test)"
   ]
  }
 ],
 "metadata": {
  "colab": {
   "collapsed_sections": [],
   "name": "Untitled0.ipynb",
   "provenance": []
  },
  "kernelspec": {
   "display_name": "Python 3",
   "language": "python",
   "name": "python3"
  },
  "language_info": {
   "codemirror_mode": {
    "name": "ipython",
    "version": 3
   },
   "file_extension": ".py",
   "mimetype": "text/x-python",
   "name": "python",
   "nbconvert_exporter": "python",
   "pygments_lexer": "ipython3",
   "version": "3.7.3"
  }
 },
 "nbformat": 4,
 "nbformat_minor": 1
}
